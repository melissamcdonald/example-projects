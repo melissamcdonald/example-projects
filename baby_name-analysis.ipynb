{
 "cells": [
  {
   "cell_type": "markdown",
   "metadata": {
    "dc": {
     "key": "af3ab50ea7"
    },
    "deletable": false,
    "editable": false,
    "run_control": {
     "frozen": true
    },
    "tags": [
     "context"
    ]
   },
   "source": [
    "## 1. Introduction to Baby Names Data\n",
    "<blockquote>\n",
    "  <p>What’s in a name? That which we call a rose, By any other name would smell as sweet.</p>\n",
    "</blockquote>\n",
    "<p>In this project, we will explore a rich dataset of first names of babies born in the US, that spans a period of more than 100 years! This suprisingly simple dataset can help us uncover so many interesting stories, and that is exactly what we are going to be doing. </p>\n",
    "<p>Let us start by reading the data.</p>"
   ]
  },
  {
   "cell_type": "code",
   "execution_count": 125,
   "metadata": {
    "collapsed": false,
    "dc": {
     "key": "af3ab50ea7"
    },
    "tags": [
     "sample_code"
    ]
   },
   "outputs": [
    {
     "name": "stdout",
     "output_type": "stream",
     "text": [
      "        name sex  births  year\n",
      "0       Mary   F    7065  1880\n",
      "1       Anna   F    2604  1880\n",
      "2       Emma   F    2003  1880\n",
      "3  Elizabeth   F    1939  1880\n",
      "4     Minnie   F    1746  1880\n",
      "<class 'pandas.core.frame.DataFrame'>\n",
      "RangeIndex: 1891894 entries, 0 to 1891893\n",
      "Data columns (total 4 columns):\n",
      "name      object\n",
      "sex       object\n",
      "births    int64\n",
      "year      int64\n",
      "dtypes: int64(2), object(2)\n",
      "memory usage: 57.7+ MB\n"
     ]
    }
   ],
   "source": [
    "# Import modules\n",
    "import pandas as pd\n",
    "\n",
    "\n",
    "# Read names into a dataframe: bnames\n",
    "bnames = pd.read_csv('datasets/names.csv.gz')\n",
    "\n",
    "print(bnames.head())\n",
    "\n",
    "bnames.info()"
   ]
  },
  {
   "cell_type": "markdown",
   "metadata": {
    "dc": {
     "key": "0bc85b342d"
    },
    "deletable": false,
    "editable": false,
    "run_control": {
     "frozen": true
    },
    "tags": [
     "context"
    ]
   },
   "source": [
    "## 2. Exploring Trends in Names\n",
    "<p>One of the first things we want to do is to understand naming trends. Let us start by figuring out the top five most popular male and female names for this decade (born 2011 and later). Do you want to make any guesses? Go on, be a sport!!</p>"
   ]
  },
  {
   "cell_type": "code",
   "execution_count": 127,
   "metadata": {
    "collapsed": false,
    "dc": {
     "key": "0bc85b342d"
    },
    "tags": [
     "sample_code"
    ]
   },
   "outputs": [
    {
     "name": "stdout",
     "output_type": "stream",
     "text": [
      "  sex      name  births\n",
      "0   F      Emma  121375\n",
      "1   F    Sophia  117352\n",
      "2   F    Olivia  111691\n",
      "3   F  Isabella  103947\n",
      "4   F       Ava   94507\n",
      "5   M      Noah  110280\n",
      "6   M     Mason  105104\n",
      "7   M     Jacob  104722\n",
      "8   M      Liam  103250\n",
      "9   M   William   99144\n"
     ]
    }
   ],
   "source": [
    "# bnames_top5: A dataframe with top 5 popular male and female names for the decade\n",
    "#select only yearsin this decade\n",
    "this_decade = bnames.loc[(bnames.year > 2010)]\n",
    "#sum up how many babies were born in this decade wtih each name for each gender\n",
    "name_counts = this_decade.groupby(['sex', 'name'], \n",
    "                                  as_index=False)['births'].sum()\n",
    "#sort and select only the top 5 names for each gender\n",
    "bnames_top5 = name_counts.sort_values(\n",
    "    ['sex', 'births'], ascending=[True, False]).groupby(\n",
    "    'sex').head().reset_index(drop=True)\n",
    "\n",
    "print(bnames_top5)\n",
    "\n"
   ]
  },
  {
   "cell_type": "markdown",
   "metadata": {
    "dc": {
     "key": "7cca0a6aff"
    },
    "deletable": false,
    "editable": false,
    "run_control": {
     "frozen": true
    },
    "tags": [
     "context"
    ]
   },
   "source": [
    "## 3. Proportion of Births\n",
    "<p>While the number of births is a useful metric, making comparisons across years becomes difficult, as one would have to control for population effects. One way around this is to normalize the number of births by the total number of births in that year.</p>"
   ]
  },
  {
   "cell_type": "code",
   "execution_count": 129,
   "metadata": {
    "collapsed": false,
    "dc": {
     "key": "7cca0a6aff"
    },
    "tags": [
     "sample_code"
    ]
   },
   "outputs": [
    {
     "name": "stdout",
     "output_type": "stream",
     "text": [
      "              name sex  births  year  prop_births\n",
      "0             Mary   F    7065  1880     0.035065\n",
      "1             Anna   F    2604  1880     0.012924\n",
      "2             Emma   F    2003  1880     0.009941\n",
      "3        Elizabeth   F    1939  1880     0.009624\n",
      "4           Minnie   F    1746  1880     0.008666\n",
      "5         Margaret   F    1578  1880     0.007832\n",
      "6              Ida   F    1472  1880     0.007306\n",
      "7            Alice   F    1414  1880     0.007018\n",
      "8           Bertha   F    1320  1880     0.006551\n",
      "9            Sarah   F    1288  1880     0.006393\n",
      "10           Annie   F    1258  1880     0.006244\n",
      "11           Clara   F    1226  1880     0.006085\n",
      "12            Ella   F    1156  1880     0.005737\n",
      "13        Florence   F    1063  1880     0.005276\n",
      "14            Cora   F    1045  1880     0.005187\n",
      "15          Martha   F    1040  1880     0.005162\n",
      "16           Laura   F    1012  1880     0.005023\n",
      "17          Nellie   F     995  1880     0.004938\n",
      "18           Grace   F     982  1880     0.004874\n",
      "19          Carrie   F     949  1880     0.004710\n",
      "20           Maude   F     858  1880     0.004258\n",
      "21           Mabel   F     808  1880     0.004010\n",
      "22          Bessie   F     796  1880     0.003951\n",
      "23          Jennie   F     793  1880     0.003936\n",
      "24        Gertrude   F     787  1880     0.003906\n",
      "25           Julia   F     783  1880     0.003886\n",
      "26          Hattie   F     769  1880     0.003817\n",
      "27           Edith   F     768  1880     0.003812\n",
      "28          Mattie   F     704  1880     0.003494\n",
      "29            Rose   F     700  1880     0.003474\n",
      "...            ...  ..     ...   ...          ...\n",
      "1891864    Zariyan   M       5  2016     0.000001\n",
      "1891865     Zarren   M       5  2016     0.000001\n",
      "1891866      Zaryn   M       5  2016     0.000001\n",
      "1891867      Zaxon   M       5  2016     0.000001\n",
      "1891868     Zaxtyn   M       5  2016     0.000001\n",
      "1891869       Zaye   M       5  2016     0.000001\n",
      "1891870     Zaymar   M       5  2016     0.000001\n",
      "1891871     Zaymir   M       5  2016     0.000001\n",
      "1891872      Zaynn   M       5  2016     0.000001\n",
      "1891873   Zayshaun   M       5  2016     0.000001\n",
      "1891874     Zedric   M       5  2016     0.000001\n",
      "1891875   Zekariah   M       5  2016     0.000001\n",
      "1891876      Zelan   M       5  2016     0.000001\n",
      "1891877     Zephen   M       5  2016     0.000001\n",
      "1891878   Zephyrus   M       5  2016     0.000001\n",
      "1891879      Zeric   M       5  2016     0.000001\n",
      "1891880      Zerin   M       5  2016     0.000001\n",
      "1891881     Zethan   M       5  2016     0.000001\n",
      "1891882      Zihao   M       5  2016     0.000001\n",
      "1891883       Zimo   M       5  2016     0.000001\n",
      "1891884       Zinn   M       5  2016     0.000001\n",
      "1891885      Zirui   M       5  2016     0.000001\n",
      "1891886       Ziya   M       5  2016     0.000001\n",
      "1891887     Ziyang   M       5  2016     0.000001\n",
      "1891888       Zoel   M       5  2016     0.000001\n",
      "1891889     Zolton   M       5  2016     0.000001\n",
      "1891890     Zurich   M       5  2016     0.000001\n",
      "1891891     Zyahir   M       5  2016     0.000001\n",
      "1891892       Zyel   M       5  2016     0.000001\n",
      "1891893      Zylyn   M       5  2016     0.000001\n",
      "\n",
      "[1891894 rows x 5 columns]\n"
     ]
    }
   ],
   "source": [
    "bnames2 = bnames.copy()\n",
    "# Compute the proportion of births by year and add it as a new column\n",
    "\n",
    "#dreate a dictionary of total number of births for each year\n",
    "groupby_year = bnames.groupby(['year'])['births']\n",
    "births_per_year_dict = {year:group.sum() for year,group in groupby_year}\n",
    "\n",
    "#create an iterable with years and births\n",
    "zipped_year_births = zip(bnames2.year, bnames2.births)\n",
    "#initialize a list to hold all the calculated birth proportions\n",
    "prop_births = []\n",
    "#iterate over the zip object to calculate proportion for each name using the birth totals from the dictionary\n",
    "for year, births in zipped_year_births:\n",
    "    prop_births.append(births/births_per_year_dict[year])\n",
    "#assign the list of proportions to the new column 'prop_births' in bnames2 \n",
    "bnames2['prop_births'] = prop_births    \n",
    "print(bnames2)\n",
    "\n",
    "\n"
   ]
  },
  {
   "cell_type": "markdown",
   "metadata": {
    "dc": {
     "key": "ec03f98f40"
    },
    "deletable": false,
    "editable": false,
    "run_control": {
     "frozen": true
    },
    "tags": [
     "context"
    ]
   },
   "source": [
    "## 4. Popularity of Names\n",
    "<p>Now that we have the proportion of births, let us plot the popularity of a name through the years. How about plotting the popularity of the female names <code>Elizabeth</code>, and <code>Deneen</code>, and inspecting the underlying trends for any interesting patterns!</p>"
   ]
  },
  {
   "cell_type": "code",
   "execution_count": 146,
   "metadata": {
    "collapsed": false,
    "dc": {
     "key": "ec03f98f40"
    },
    "tags": [
     "sample_code"
    ]
   },
   "outputs": [
    {
     "data": {
      "image/png": "[encoded data removed]",
      "text/plain": [
       "<matplotlib.figure.Figure at 0x7fba74d7a908>"
      ]
     },
     "metadata": {},
     "output_type": "display_data"
    },
    {
     "data": {
      "image/png": "[encoded data removed]",
      "text/plain": [
       "<matplotlib.figure.Figure at 0x7fba74c9c710>"
      ]
     },
     "metadata": {},
     "output_type": "display_data"
    }
   ],
   "source": [
    "# Set up matplotlib for plotting in the notebook.\n",
    "%matplotlib inline\n",
    "import matplotlib.pyplot as plt\n",
    "\n",
    "def plot_trends(name, sex):\n",
    "  \"\"\"using the provided name and sex, plot number of births by year\"\"\"\n",
    "  births_by_name = bnames2.loc[(bnames2['name']==name) & (bnames2['sex']==sex)]\n",
    "  births_by_name.plot('year', 'births')\n",
    "  plt.xlabel('Year')\n",
    "  plt.ylabel('# of Births')\n",
    "  g_map = {'M':'Male', 'F':'Female'}\n",
    "  plt.title('Children named ' + name + ' each year ' + \"(\" + g_map[sex] +\")\")\n",
    "  return\n",
    "\n",
    "\n",
    "# Plot trends for Elizabeth and Deneen \n",
    "plot_trends('Elizabeth', 'F')\n",
    "plot_trends('Deneen', 'F')\n",
    "\n",
    "    \n",
    "# How many times did these female names peak?\n",
    "num_peaks_elizabeth = 3\n",
    "num_peaks_deneen    = 1"
   ]
  },
  {
   "cell_type": "markdown",
   "metadata": {
    "dc": {
     "key": "b56a9fcef5"
    },
    "deletable": false,
    "editable": false,
    "run_control": {
     "frozen": true
    },
    "tags": [
     "context"
    ]
   },
   "source": [
    "## 5. Trendy vs. Stable Names\n",
    "<p>Based on the plots we created earlier, we can see that <strong>Elizabeth</strong> is a fairly stable name, while <strong>Deneen</strong> is not. An interesting question to ask would be what are the top 5 stable and top 5 trendiest names. A stable name is one whose proportion across years does not vary drastically, while a trendy name is one whose popularity peaks for a short period and then dies down. </p>\n",
    "<p>There are many ways to measure trendiness. A simple measure would be to look at the maximum proportion of births for a name, normalized by the sume of proportion of births across years. For example, if the name <code>Joe</code> had the proportions <code>0.1, 0.2, 0.1, 0.1</code>, then the trendiness measure would be <code>0.2/(0.1 + 0.2 + 0.1 + 0.1)</code> which equals <code>0.5</code>.</p>\n",
    "<p>Let us use this idea to figure out the top 10 trendy names in this data set, with at least a 1000 births.</p>"
   ]
  },
  {
   "cell_type": "code",
   "execution_count": 133,
   "metadata": {
    "collapsed": false,
    "dc": {
     "key": "b56a9fcef5"
    },
    "tags": [
     "sample_code"
    ]
   },
   "outputs": [
    {
     "name": "stdout",
     "output_type": "stream",
     "text": [
      "(106695, 3)\n",
      "       name sex  total   max  trendiness\n",
      "0  Christop   M   1082  1082    1.000000\n",
      "1   Royalty   F   1057   581    0.549669\n",
      "2     Kizzy   F   2325  1116    0.480000\n",
      "3    Aitana   F   1203   564    0.468828\n",
      "4    Deneen   F   3602  1604    0.445308\n",
      "5    Moesha   F   1067   426    0.399250\n",
      "6    Marely   F   2527  1004    0.397309\n",
      "7     Kanye   M   1304   507    0.388804\n",
      "8  Tennille   F   2172   769    0.354052\n",
      "9   Kadijah   F   1411   486    0.344437\n"
     ]
    }
   ],
   "source": [
    "# top10_trendy_names | A Data Frame of the top 10 most trendy names\n",
    "def total(series):\n",
    "    \"\"\"Rename sum to total for ease of reporting\"\"\"\n",
    "    value = sum(series)\n",
    "    return value\n",
    "\n",
    "#find total and max number of births for each name/gender combination\n",
    "births_by_name = bnames.groupby(['name', 'sex'], \n",
    "                                as_index=False)['births'].agg([total, 'max'])\n",
    "\n",
    "#generate the new trendiness column\n",
    "births_by_name['trendiness'] = (births_by_name['max'] /\n",
    "                                births_by_name['total'])\n",
    "print(births_by_name.shape)\n",
    "#filter out only those names with over 1000 births\n",
    "births_by_name= births_by_name.loc[births_by_name['total'] >= 1000]\n",
    "#sort and find the top 10 most trendy names\n",
    "top10_trendy_names = births_by_name.sort_values(\n",
    "    'trendiness', ascending=False).head(10).reset_index()\n",
    "\n",
    "print(top10_trendy_names)"
   ]
  },
  {
   "cell_type": "markdown",
   "metadata": {
    "dc": {
     "key": "8beea38403"
    },
    "deletable": false,
    "editable": false,
    "run_control": {
     "frozen": true
    },
    "tags": [
     "context"
    ]
   },
   "source": [
    "## 6. Bring in Mortality Data\n",
    "<p>So, what more is in a name? Well, with some further work, it is possible to predict the age of a person based on the name (Whoa! Really????). For this, we will need actuarial data that can tell us the chances that someone is still alive, based on when they were born. Fortunately, the <a href=\"https://www.ssa.gov/\">SSA</a> provides detailed <a href=\"https://www.ssa.gov/oact/STATS/table4c6.html\">actuarial life tables</a> by birth cohorts.</p>\n",
    "<table>\n",
    "<thead>\n",
    "<tr>\n",
    "<th style=\"text-align:right;\">year</th>\n",
    "<th style=\"text-align:right;\">age</th>\n",
    "<th style=\"text-align:right;\">qx</th>\n",
    "<th style=\"text-align:right;\">lx</th>\n",
    "<th style=\"text-align:right;\">dx</th>\n",
    "<th style=\"text-align:right;\">Lx</th>\n",
    "<th style=\"text-align:right;\">Tx</th>\n",
    "<th style=\"text-align:right;\">ex</th>\n",
    "<th style=\"text-align:left;\">sex</th>\n",
    "</tr>\n",
    "</thead>\n",
    "<tbody>\n",
    "<tr>\n",
    "<td style=\"text-align:right;\">1910</td>\n",
    "<td style=\"text-align:right;\">39</td>\n",
    "<td style=\"text-align:right;\">0.00283</td>\n",
    "<td style=\"text-align:right;\">78275</td>\n",
    "<td style=\"text-align:right;\">222</td>\n",
    "<td style=\"text-align:right;\">78164</td>\n",
    "<td style=\"text-align:right;\">3129636</td>\n",
    "<td style=\"text-align:right;\">39.98</td>\n",
    "<td style=\"text-align:left;\">F</td>\n",
    "</tr>\n",
    "<tr>\n",
    "<td style=\"text-align:right;\">1910</td>\n",
    "<td style=\"text-align:right;\">40</td>\n",
    "<td style=\"text-align:right;\">0.00297</td>\n",
    "<td style=\"text-align:right;\">78053</td>\n",
    "<td style=\"text-align:right;\">232</td>\n",
    "<td style=\"text-align:right;\">77937</td>\n",
    "<td style=\"text-align:right;\">3051472</td>\n",
    "<td style=\"text-align:right;\">39.09</td>\n",
    "<td style=\"text-align:left;\">F</td>\n",
    "</tr>\n",
    "<tr>\n",
    "<td style=\"text-align:right;\">1910</td>\n",
    "<td style=\"text-align:right;\">41</td>\n",
    "<td style=\"text-align:right;\">0.00318</td>\n",
    "<td style=\"text-align:right;\">77821</td>\n",
    "<td style=\"text-align:right;\">248</td>\n",
    "<td style=\"text-align:right;\">77697</td>\n",
    "<td style=\"text-align:right;\">2973535</td>\n",
    "<td style=\"text-align:right;\">38.21</td>\n",
    "<td style=\"text-align:left;\">F</td>\n",
    "</tr>\n",
    "<tr>\n",
    "<td style=\"text-align:right;\">1910</td>\n",
    "<td style=\"text-align:right;\">42</td>\n",
    "<td style=\"text-align:right;\">0.00332</td>\n",
    "<td style=\"text-align:right;\">77573</td>\n",
    "<td style=\"text-align:right;\">257</td>\n",
    "<td style=\"text-align:right;\">77444</td>\n",
    "<td style=\"text-align:right;\">2895838</td>\n",
    "<td style=\"text-align:right;\">37.33</td>\n",
    "<td style=\"text-align:left;\">F</td>\n",
    "</tr>\n",
    "<tr>\n",
    "<td style=\"text-align:right;\">1910</td>\n",
    "<td style=\"text-align:right;\">43</td>\n",
    "<td style=\"text-align:right;\">0.00346</td>\n",
    "<td style=\"text-align:right;\">77316</td>\n",
    "<td style=\"text-align:right;\">268</td>\n",
    "<td style=\"text-align:right;\">77182</td>\n",
    "<td style=\"text-align:right;\">2818394</td>\n",
    "<td style=\"text-align:right;\">36.45</td>\n",
    "<td style=\"text-align:left;\">F</td>\n",
    "</tr>\n",
    "<tr>\n",
    "<td style=\"text-align:right;\">1910</td>\n",
    "<td style=\"text-align:right;\">44</td>\n",
    "<td style=\"text-align:right;\">0.00351</td>\n",
    "<td style=\"text-align:right;\">77048</td>\n",
    "<td style=\"text-align:right;\">270</td>\n",
    "<td style=\"text-align:right;\">76913</td>\n",
    "<td style=\"text-align:right;\">2741212</td>\n",
    "<td style=\"text-align:right;\">35.58</td>\n",
    "<td style=\"text-align:left;\">F</td>\n",
    "</tr>\n",
    "</tbody>\n",
    "</table>\n",
    "<p>You can read the <a href=\"https://www.ssa.gov/oact/NOTES/as120/LifeTables_Body.html\">documentation for the lifetables</a> to understand what the different columns mean. The key column of interest to us is <code>lx</code>, which provides the number of people born in a <code>year</code> who live upto a given <code>age</code>. The probability of being alive can be derived as <code>lx</code> by 100,000. </p>\n",
    "<p>Given that 2016 is the latest year in the baby names dataset, we are interested only in a subset of this data, that will help us answer the question, \"What percentage of people born in Year X are still alive in 2016?\" </p>\n",
    "<p>Let us use this data and plot it to get a sense of the mortality distribution!</p>"
   ]
  },
  {
   "cell_type": "code",
   "execution_count": 135,
   "metadata": {
    "collapsed": false,
    "dc": {
     "key": "8beea38403"
    },
    "tags": [
     "sample_code"
    ]
   },
   "outputs": [
    {
     "name": "stdout",
     "output_type": "stream",
     "text": [
      "      year  age       qx       lx     dx      Lx         Tx     ex sex\n",
      "116   1900  116  0.83363      0.0      0       0          0   0.69   M\n",
      "236   1900  116  0.83363      0.0      0       0          0   0.69   F\n",
      "346   1910  106  0.51178      7.0      3       5          9   1.38   M\n",
      "466   1910  106  0.47062     61.0     29      47         92   1.52   F\n",
      "576   1920   96  0.30765   1625.0    500   1,375      4,000   2.46   M\n",
      "696   1920   96  0.25681   5428.0  1,394   4,731     15,788   2.91   F\n",
      "806   1930   86  0.12620  20766.0  2,621  19,455    105,149   5.06   M\n",
      "926   1930   86  0.09239  35078.0  3,241  33,458    216,619   6.18   F\n",
      "1036  1940   76  0.04469  52262.0  2,336  51,094    527,017  10.08   M\n",
      "1156  1940   76  0.03168  65417.0  2,072  64,380    783,771  11.98   F\n",
      "1266  1950   66  0.01825  74633.0  1,362  73,952  1,261,965  16.91   M\n",
      "1386  1950   66  0.01268  83676.0  1,061  83,145  1,631,592  19.50   F\n",
      "1496  1960   56  0.00708  85491.0    605  85,188  2,162,629  25.30   M\n",
      "1616  1960   56  0.00469  91390.0    429  91,175  2,591,800  28.36   F\n",
      "1726  1970   46  0.00370  91811.0    340  91,641  3,179,046  34.63   M\n",
      "1846  1970   46  0.00204  95092.0    194  94,995  3,621,951  38.09   F\n",
      "1956  1980   36  0.00165  95598.0    158  95,519  4,250,489  44.46   M\n",
      "2076  1980   36  0.00100  97375.0     97  97,326  4,689,394  48.16   F\n",
      "2186  1990   26  0.00102  97465.0    100  97,415  5,330,233  54.69   M\n",
      "2306  1990   26  0.00044  98446.0     44  98,424  5,759,761  58.51   F\n",
      "2416  2000   16  0.00067  98888.0     66  98,855  6,416,111  64.88   M\n",
      "2536  2000   16  0.00032  99116.0     32  99,100  6,831,002  68.92   F\n",
      "2646  2010    6  0.00013  99296.0     13  99,289  7,500,165  75.53   M\n",
      "2766  2010    6  0.00011  99410.0     11  99,404  7,899,134  79.46   F\n"
     ]
    },
    {
     "data": {
      "image/png": "[encoded data removed]",
      "text/plain": [
       "<matplotlib.figure.Figure at 0x7fba74efc668>"
      ]
     },
     "metadata": {},
     "output_type": "display_data"
    }
   ],
   "source": [
    "import pandas as pd\n",
    "import matplotlib.pyplot as plt\n",
    "\n",
    "# Read lifetables from datasets/lifetables.csv\n",
    "lifetables = pd.read_csv('datasets/lifetables.csv')\n",
    "#print(lifetables)\n",
    "\n",
    "# Extract subset relevant to those alive in 2016\n",
    "lifetables_2016 = lifetables.loc[\n",
    "    (lifetables['year']+lifetables['age']) == 2016]\n",
    "print(lifetables_2016)\n",
    "\n",
    "# Plot the mortality distribution: year vs. lx\n",
    "lifetables_2016.plot('lx', 'year')\n",
    "plt.xlabel('Life Expectancy')\n",
    "plt.ylabel('Year of Birth')\n",
    "plt.title('Mortality Distribution 2016')\n",
    "plt.show()\n"
   ]
  },
  {
   "cell_type": "markdown",
   "metadata": {
    "dc": {
     "key": "19e120d2df"
    },
    "deletable": false,
    "editable": false,
    "run_control": {
     "frozen": true
    },
    "tags": [
     "context"
    ]
   },
   "source": [
    "## 7. Smoothen the Curve!\n",
    "<p>We are almost there. There is just one small glitch. The cohort life tables are provided only for every decade. In order to figure out the distribution of people alive, we need the probabilities for every year. One way to fill up the gaps in the data is to use some kind of interpolation. Let us keep things simple and use linear interpolation to fill out the gaps in values of <code>lx</code>, between the years <code>1900</code> and <code>2016</code>.</p>"
   ]
  },
  {
   "cell_type": "code",
   "execution_count": 137,
   "metadata": {
    "collapsed": false,
    "dc": {
     "key": "19e120d2df"
    },
    "tags": [
     "sample_code"
    ]
   },
   "outputs": [
    {
     "name": "stdout",
     "output_type": "stream",
     "text": [
      "          lx sex  year\n",
      "0        0.0   F  1900\n",
      "1        6.1   F  1901\n",
      "2       12.2   F  1902\n",
      "3       18.3   F  1903\n",
      "4       24.4   F  1904\n",
      "5       30.5   F  1905\n",
      "6       36.6   F  1906\n",
      "7       42.7   F  1907\n",
      "8       48.8   F  1908\n",
      "9       54.9   F  1909\n",
      "10      61.0   F  1910\n",
      "11     597.7   F  1911\n",
      "12    1134.4   F  1912\n",
      "13    1671.1   F  1913\n",
      "14    2207.8   F  1914\n",
      "15    2744.5   F  1915\n",
      "16    3281.2   F  1916\n",
      "17    3817.9   F  1917\n",
      "18    4354.6   F  1918\n",
      "19    4891.3   F  1919\n",
      "20    5428.0   F  1920\n",
      "21    8393.0   F  1921\n",
      "22   11358.0   F  1922\n",
      "23   14323.0   F  1923\n",
      "24   17288.0   F  1924\n",
      "25   20253.0   F  1925\n",
      "26   23218.0   F  1926\n",
      "27   26183.0   F  1927\n",
      "28   29148.0   F  1928\n",
      "29   32113.0   F  1929\n",
      "..       ...  ..   ...\n",
      "86   96718.2   M  1986\n",
      "87   96904.9   M  1987\n",
      "88   97091.6   M  1988\n",
      "89   97278.3   M  1989\n",
      "90   97465.0   M  1990\n",
      "91   97607.3   M  1991\n",
      "92   97749.6   M  1992\n",
      "93   97891.9   M  1993\n",
      "94   98034.2   M  1994\n",
      "95   98176.5   M  1995\n",
      "96   98318.8   M  1996\n",
      "97   98461.1   M  1997\n",
      "98   98603.4   M  1998\n",
      "99   98745.7   M  1999\n",
      "100  98888.0   M  2000\n",
      "101  98928.8   M  2001\n",
      "102  98969.6   M  2002\n",
      "103  99010.4   M  2003\n",
      "104  99051.2   M  2004\n",
      "105  99092.0   M  2005\n",
      "106  99132.8   M  2006\n",
      "107  99173.6   M  2007\n",
      "108  99214.4   M  2008\n",
      "109  99255.2   M  2009\n",
      "110  99296.0   M  2010\n",
      "111  99296.0   M  2011\n",
      "112  99296.0   M  2012\n",
      "113  99296.0   M  2013\n",
      "114  99296.0   M  2014\n",
      "115  99296.0   M  2015\n",
      "\n",
      "[232 rows x 3 columns]\n"
     ]
    }
   ],
   "source": [
    "# Create smoothed lifetable_2016_s by interpolating values of lx\n",
    "#make a data frame with all the years 1900-2016\n",
    "lifetable_2016_f = pd.DataFrame({'year': [i for i in range(1900, 2016)]})\n",
    "#split off just the female data\n",
    "lx_f = lifetables_2016.loc[lifetables_2016.sex == 'F']\n",
    "#merge the year df with the female data \n",
    "f_lx_2016 = pd.merge_ordered(\n",
    "    lifetable_2016_f, lx_f, on='year')\n",
    "#interpolate values of lx linearly\n",
    "f_lx_2016.lx.interpolate(method='linear', inplace=True)\n",
    "#fill in missing values in the gender column\n",
    "f_lx_2016['sex'] = 'F'\n",
    "\n",
    "#repeat the above steps on the male rows\n",
    "lifetable_2016_m = pd.DataFrame({'year': [i for i in range(1900,2016)]})\n",
    "lx_m = lifetables_2016.loc[lifetables_2016.sex == 'M']\n",
    "m_lx_2016 = pd.merge_ordered(\n",
    "    lifetable_2016_m, lx_m, on='year')\n",
    "m_lx_2016.lx.interpolate(method='linear', inplace=True)\n",
    "m_lx_2016['sex'] = 'M'\n",
    "\n",
    "#append the male df to the female\n",
    "lifetable_2016_s = f_lx_2016.append(m_lx_2016)\n",
    "#select only the columns of interest\n",
    "lifetable_2016_s = lifetable_2016_s.loc[:, ['lx', 'sex', 'year']]\n",
    "print(lifetable_2016_s)\n"
   ]
  },
  {
   "cell_type": "markdown",
   "metadata": {
    "dc": {
     "key": "8edb689558"
    },
    "deletable": false,
    "editable": false,
    "run_control": {
     "frozen": true
    },
    "tags": [
     "context"
    ]
   },
   "source": [
    "## 8. Distribution of People Alive by Name\n",
    "<p>Now that we have all the required data, we need a few helper functions to help us with our analysis. </p>\n",
    "<p>The first function we will write is <code>get_data</code>,which takes <code>name</code> and <code>sex</code> as inputs and returns a data frame with the distribution of number of births and number of people alive by year.</p>\n",
    "<p>The second function is <code>plot_name</code> which accepts the same arguments as <code>get_data</code>, but returns a line plot of the distribution of number of births, overlaid by an area plot of the number alive by year.</p>\n",
    "<p>Using these functions, we will plot the distribution of births for boys named <strong>Joseph</strong> and girls named <strong>Brittany</strong>.</p>"
   ]
  },
  {
   "cell_type": "code",
   "execution_count": 139,
   "metadata": {
    "collapsed": false,
    "dc": {
     "key": "8edb689558"
    },
    "tags": [
     "sample_code"
    ]
   },
   "outputs": [
    {
     "data": {
      "image/png": "[encoded data removed]",
      "text/plain": [
       "<matplotlib.figure.Figure at 0x7fba74e66cc0>"
      ]
     },
     "metadata": {},
     "output_type": "display_data"
    },
    {
     "data": {
      "image/png": "[encoded data removed]",
      "text/plain": [
       "<matplotlib.figure.Figure at 0x7fba74e66be0>"
      ]
     },
     "metadata": {},
     "output_type": "display_data"
    }
   ],
   "source": [
    "def get_data(name, sex):\n",
    "    \"\"\"generate a dataframe with the merged life \n",
    "    expectancy information with the birth information \n",
    "    for a given name/gender combination\"\"\"\n",
    "    name_df = pd.merge(\n",
    "        bnames.loc[(bnames['name']==name) & (bnames['sex']==sex)], \n",
    "        lifetable_2016_s, on=['year', 'sex'])\n",
    "    name_df['n_alive'] = name_df['lx'] * name_df['births'] / 100000\n",
    "    return name_df\n",
    "    \n",
    "\n",
    "def plot_data(name, sex):\n",
    "    \"\"\"Plots the Distribution of number of births versus number alive \"\"\"\n",
    "    import matplotlib.pyplot as plt\n",
    "    fig,ax = plt.subplots()\n",
    "    data = get_data(name, sex)\n",
    "    data.plot('year', 'births', color='black', ax=ax)\n",
    "    data.plot('year', 'n_alive', kind='area', color='steelblue', ax=ax, alpha=0.8)\n",
    "    plt.xlabel('Year')\n",
    "    plt.ylabel('Number')\n",
    "    plt.title('Distribution of Number of Births Versus Number Alive for '\n",
    "              + name +\"(\" + sex + \")\")\n",
    "    ax.set_xlim(1900,2016)\n",
    "    plt.show()\n",
    "    return \n",
    "    \n",
    "# Plot the distribution of births and number alive for Joseph and Brittany\n",
    "plot_data('Joseph', 'M')\n",
    "plot_data('Brittany', 'F')\n"
   ]
  },
  {
   "cell_type": "markdown",
   "metadata": {
    "dc": {
     "key": "76f2d745c2"
    },
    "deletable": false,
    "editable": false,
    "run_control": {
     "frozen": true
    },
    "tags": [
     "context"
    ]
   },
   "source": [
    "## 9. Estimate Age\n",
    "<p>In this section, we want to figure out the probability that a person with a certain name is alive, as well as the quantiles of their age distribution. In particular, we will estimate the age of a female named <strong>Gertrude</strong>. Any guesses on how old a person with this name is? How about a male named <strong>William</strong>?</p>"
   ]
  },
  {
   "cell_type": "code",
   "execution_count": 141,
   "metadata": {
    "collapsed": false,
    "dc": {
     "key": "76f2d745c2"
    },
    "tags": [
     "sample_code"
    ]
   },
   "outputs": [
    {
     "data": {
      "text/plain": [
       "name       Gertrude\n",
       "p_alive    0.187256\n",
       "q25         69.0775\n",
       "q50         79.9437\n",
       "q75         88.4885\n",
       "sex               F\n",
       "dtype: object"
      ]
     },
     "execution_count": 141,
     "metadata": {},
     "output_type": "execute_result"
    }
   ],
   "source": [
    "# Import modules\n",
    "from wquantiles import quantile\n",
    "\n",
    "# Function to estimate age quantiles\n",
    "def estimate_age(name, sex):\n",
    "    \"\"\"Get summary statistics on estimate agefor a given name/gender combination\"\"\"\n",
    "    #Retrieve a dataframe with life expectancy info\n",
    "    d = get_data(name, sex)\n",
    "    \n",
    "    #Fin the current age for each birth year\n",
    "    d['current_age'] = 2016 - d['year']\n",
    "    #Calculate the probability an individual with the name is alive in 2016\n",
    "    p_alive = d.n_alive.sum()/d.births.sum()\n",
    "    #Calculate Average Age for an indiviual with the name -used for test purposes -not reported\n",
    "    av_age = (d.n_alive * d.current_age).sum()/ d.n_alive.sum()\n",
    "    #calculate the quartiles - weighting current age by number of those individuals alive\n",
    "    q1 = quantile(d.current_age, d.n_alive, .25)\n",
    "    q2 = quantile(d.current_age, d.n_alive, .5)\n",
    "    q3 = quantile(d.current_age, d.n_alive, .75)\n",
    "    #create a series of the calculated values\n",
    "    series = pd.Series([name, p_alive, q1, q2, q3, sex], \n",
    "                       index= ['name', 'p_alive', 'q25', 'q50', 'q75', 'sex'])\n",
    "\n",
    "    return series\n",
    "\n",
    "# Estimate the age of Gertrude\n",
    "estimate_age('Gertrude', 'F')"
   ]
  },
  {
   "cell_type": "markdown",
   "metadata": {
    "dc": {
     "key": "9f5f6fd409"
    },
    "deletable": false,
    "editable": false,
    "run_control": {
     "frozen": true
    },
    "tags": [
     "context"
    ]
   },
   "source": [
    "## 10. Median Age of Top 10 Female Names\n",
    "<p>In the previous section, we estimated the age of a female named Gertrude. Let's go one step further this time, and compute the 25th, 50th and 75th percentiles of age, and the probability of being alive for the top 10 most common female names of all time. This should give us some interesting insights on how these names stack up in terms of median ages!</p>"
   ]
  },
  {
   "cell_type": "code",
   "execution_count": 143,
   "metadata": {
    "collapsed": false,
    "dc": {
     "key": "9f5f6fd409"
    },
    "tags": [
     "sample_code"
    ]
   },
   "outputs": [
    {
     "name": "stdout",
     "output_type": "stream",
     "text": [
      "   index       name sex   births\n",
      "0  67099       Mary   F  4120692\n",
      "1  30037  Elizabeth   F  1620611\n",
      "2  77362   Patricia   F  1571380\n",
      "3  45514   Jennifer   F  1465243\n",
      "4  61513      Linda   F  1451809\n",
      "5  11329    Barbara   F  1433727\n",
      "6  65802   Margaret   F  1244388\n",
      "7  92420      Susan   F  1121148\n",
      "8  27966    Dorothy   F  1106575\n",
      "9  85548      Sarah   F  1069797\n",
      "        name   p_alive        q25        q50        q75 sex\n",
      "0       Mary  0.544080  52.980412  63.513551  73.755795   F\n",
      "1  Elizabeth  0.744920  22.757173  37.801482  57.517297   F\n",
      "2   Patricia  0.767523  53.895009  62.688668  70.010346   F\n",
      "3   Jennifer  0.963536  30.817393  37.482561  43.599117   F\n",
      "4      Linda  0.834324  56.619648  63.576777  68.101376   F\n",
      "5    Barbara  0.706063  57.755453  65.975158  73.537393   F\n",
      "6   Margaret  0.494679  50.187733  63.866447  74.448792   F\n",
      "7      Susan  0.857993  51.587657  58.505283  64.552512   F\n",
      "8    Dorothy  0.358119  63.316073  74.169920  84.224271   F\n",
      "9      Sarah  0.860528  19.941632  29.010758  37.731747   F\n"
     ]
    }
   ],
   "source": [
    "# Create median_ages: DataFrame with Top 10 Female names, \n",
    "#    age percentiles and probability of being alive\n",
    "#find total births for each name/gender combination\n",
    "extract = bnames.groupby(['name', 'sex'], as_index=False)['births'].sum()\n",
    "#select only female names\n",
    "extract = extract.loc[extract['sex'] == 'F']\n",
    "#sort by number of births, most first, and select only the top 10\n",
    "extract = extract.sort_values(\n",
    "    'births', ascending=False).head(10).reset_index()\n",
    "\n",
    "print(extract)\n",
    "\n",
    "#run the estimate_age function for each of the top10 names\n",
    "series_list = [estimate_age(n, s) for n,s in zip(extract['name'],extract['sex'])]\n",
    "\n",
    "#create a df from the estimate_age results\n",
    "median_ages = pd.DataFrame(series_list)\n",
    "\n",
    "print(median_ages)\n",
    "\n",
    "\n",
    "\n"
   ]
  }
 ],
 "metadata": {
  "kernelspec": {
   "display_name": "Python 3",
   "language": "python",
   "name": "python3"
  },
  "language_info": {
   "codemirror_mode": {
    "name": "ipython",
    "version": 3
   },
   "file_extension": ".py",
   "mimetype": "text/x-python",
   "name": "python",
   "nbconvert_exporter": "python",
   "pygments_lexer": "ipython3",
   "version": "3.6.0"
  }
 },
 "nbformat": 4,
 "nbformat_minor": 2
}
