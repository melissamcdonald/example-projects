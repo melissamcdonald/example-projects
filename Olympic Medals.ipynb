{
 "cells": [
  {
   "cell_type": "markdown",
   "metadata": {},
   "source": [
    "<b>Olympic Data Analysis - Summer Games 1896-2008</b>\n",
    "\n",
    "An analysis of Olympic Medals Won in Summer Olympic Games between 1896 and 2008\n",
    "\n",
    "*Data Obtained from The Guardian (https://www.theguardian.com/sport/datablog/2012/jun/25/olympic-medal-winner-list-data)\n",
    "\n"
   ]
  },
  {
   "cell_type": "code",
   "execution_count": 34,
   "metadata": {
    "collapsed": false
   },
   "outputs": [],
   "source": [
    "#import packages\n",
    "import pandas as pd\n",
    "import matplotlib.pyplot as plt\n",
    "\n",
    "%matplotlib inline"
   ]
  },
  {
   "cell_type": "code",
   "execution_count": 35,
   "metadata": {
    "collapsed": false
   },
   "outputs": [
    {
     "name": "stdout",
     "output_type": "stream",
     "text": [
      "     City  Edition     Sport Discipline             Athlete  NOC Gender  \\\n",
      "0  Athens     1896  Aquatics   Swimming       HAJOS, Alfred  HUN    Men   \n",
      "1  Athens     1896  Aquatics   Swimming    HERSCHMANN, Otto  AUT    Men   \n",
      "2  Athens     1896  Aquatics   Swimming   DRIVAS, Dimitrios  GRE    Men   \n",
      "3  Athens     1896  Aquatics   Swimming  MALOKINIS, Ioannis  GRE    Men   \n",
      "4  Athens     1896  Aquatics   Swimming  CHASAPIS, Spiridon  GRE    Men   \n",
      "\n",
      "                        Event Event_gender   Medal  \n",
      "0              100m freestyle            M    Gold  \n",
      "1              100m freestyle            M  Silver  \n",
      "2  100m freestyle for sailors            M  Bronze  \n",
      "3  100m freestyle for sailors            M    Gold  \n",
      "4  100m freestyle for sailors            M  Silver  \n"
     ]
    }
   ],
   "source": [
    "#load in medal data\n",
    "medals = pd.read_csv('C:\\Anaconda\\MEDALISTS.csv'\n",
    "                     , header=4, parse_dates=True)\n",
    "\n",
    "print(medals.head())\n"
   ]
  },
  {
   "cell_type": "markdown",
   "metadata": {},
   "source": [
    "In The Guardian's Dataset, there is a data entry problem. The following code shows where the problem is and fixes it."
   ]
  },
  {
   "cell_type": "code",
   "execution_count": 36,
   "metadata": {
    "collapsed": false
   },
   "outputs": [
    {
     "name": "stdout",
     "output_type": "stream",
     "text": [
      "                      City  Edition  Sport  Discipline  Athlete    NOC  Event  \\\n",
      "Event_gender Gender                                                             \n",
      "M            Men     20067    20067  20067       20067    20067  20067  20067   \n",
      "W            Men         1        1      1           1        1      1      1   \n",
      "             Women    7277     7277   7277        7277     7277   7277   7277   \n",
      "X            Men      1653     1653   1653        1653     1653   1653   1653   \n",
      "             Women     218      218    218         218      218    218    218   \n",
      "\n",
      "                     Medal  \n",
      "Event_gender Gender         \n",
      "M            Men     20067  \n",
      "W            Men         1  \n",
      "             Women    7277  \n",
      "X            Men      1653  \n",
      "             Women     218  \n",
      "         City  Edition      Sport Discipline            Athlete  NOC Gender  \\\n",
      "23675  Sydney     2000  Athletics  Athletics  CHEPCHUMBA, Joyce  KEN    Men   \n",
      "\n",
      "          Event Event_gender   Medal  \n",
      "23675  marathon            W  Bronze   is a suspect data point\n",
      "Women\n"
     ]
    }
   ],
   "source": [
    "#Tracking down a spurious value in the gender column with groupby and aggregation by count:\n",
    "\n",
    "# Group medals by the two columns: medals_by_gender\n",
    "medals_by_gender = medals.groupby(['Event_gender', 'Gender'])\n",
    "\n",
    "# Create a DataFrame with a group count: medal_count_by_gender\n",
    "medal_count_by_gender = medals_by_gender.count()\n",
    "\n",
    "# Print medal_count_by_gender\n",
    "print(medal_count_by_gender)\n",
    "\n",
    "#using the knowledge returned above we can write a script to find the row with the bad data:\n",
    "# Create the Boolean Series: sus\n",
    "sus = ((medals['Event_gender'] == 'W') & (medals['Gender'] == 'Men'))\n",
    "\n",
    "# Create a DataFrame with the suspicious row: suspect\n",
    "suspect = medals.loc[sus]\n",
    "\n",
    "# Print suspect\n",
    "print(str(suspect) + ' is a suspect data point')\n",
    "\n",
    "\n",
    "\n",
    "#fix gender value in row 23675, data entry error\n",
    "medals.set_value(23675, 'Gender', 'Women')\n",
    "\n",
    "print(medals.Gender[23675])\n"
   ]
  },
  {
   "cell_type": "markdown",
   "metadata": {},
   "source": [
    "<center><b>Top Medal Winning Countries</b></center>"
   ]
  },
  {
   "cell_type": "code",
   "execution_count": 37,
   "metadata": {
    "collapsed": false
   },
   "outputs": [
    {
     "name": "stdout",
     "output_type": "stream",
     "text": [
      "USA    4335\n",
      "URS    2049\n",
      "GBR    1594\n",
      "FRA    1314\n",
      "ITA    1228\n",
      "GER    1211\n",
      "AUS    1075\n",
      "HUN    1053\n",
      "SWE    1021\n",
      "GDR     825\n",
      "NED     782\n",
      "JPN     704\n",
      "CHN     679\n",
      "RUS     638\n",
      "ROU     624\n",
      "Name: NOC, dtype: int64\n"
     ]
    }
   ],
   "source": [
    "# Select the 'NOC' column of medals: country_names\n",
    "country_names = medals['NOC']\n",
    "\n",
    "# Count the number of medals won by each country: medal_counts\n",
    "medal_counts = country_names.value_counts()\n",
    "\n",
    "# Print top 15 countries ranked by medals\n",
    "print(medal_counts.head(15))"
   ]
  },
  {
   "cell_type": "markdown",
   "metadata": {},
   "source": [
    "<center><b>Top Medal Winning Countries by Medal Type</b></center>"
   ]
  },
  {
   "cell_type": "code",
   "execution_count": 38,
   "metadata": {
    "collapsed": false
   },
   "outputs": [
    {
     "name": "stdout",
     "output_type": "stream",
     "text": [
      "Medal  Bronze    Gold  Silver  totals\n",
      "NOC                                  \n",
      "USA    1052.0  2088.0  1195.0  4335.0\n",
      "URS     584.0   838.0   627.0  2049.0\n",
      "GBR     505.0   498.0   591.0  1594.0\n",
      "FRA     475.0   378.0   461.0  1314.0\n",
      "ITA     374.0   460.0   394.0  1228.0\n",
      "GER     454.0   407.0   350.0  1211.0\n",
      "AUS     413.0   293.0   369.0  1075.0\n",
      "HUN     345.0   400.0   308.0  1053.0\n",
      "SWE     325.0   347.0   349.0  1021.0\n",
      "GDR     225.0   329.0   271.0   825.0\n",
      "NED     320.0   212.0   250.0   782.0\n",
      "JPN     270.0   206.0   228.0   704.0\n",
      "CHN     193.0   234.0   252.0   679.0\n",
      "RUS     240.0   192.0   206.0   638.0\n",
      "ROU     282.0   155.0   187.0   624.0\n"
     ]
    }
   ],
   "source": [
    "# Construct the pivot table: counted\n",
    "counted = medals.pivot_table(index='NOC', values='Athlete', columns='Medal', aggfunc='count')\n",
    "\n",
    "# Create the new column: counted['totals']\n",
    "counted['totals'] = counted.sum(axis='columns')\n",
    "\n",
    "# Sort counted by the 'totals' column\n",
    "counted = counted.sort_values(by='totals', axis=0, ascending=False)\n",
    "\n",
    "\n",
    "# Print the top 15 rows of counted\n",
    "print(counted.head(15))"
   ]
  },
  {
   "cell_type": "markdown",
   "metadata": {},
   "source": [
    "<center><b>How Many Unique Event Gender/Gender Combinations are There?</b></center>"
   ]
  },
  {
   "cell_type": "code",
   "execution_count": 39,
   "metadata": {
    "collapsed": false
   },
   "outputs": [
    {
     "name": "stdout",
     "output_type": "stream",
     "text": [
      "    Event_gender Gender\n",
      "0              M    Men\n",
      "348            X    Men\n",
      "416            W  Women\n",
      "639            X  Women\n"
     ]
    }
   ],
   "source": [
    "# Select columns: ev_gen\n",
    "ev_gen = medals[['Event_gender', 'Gender']]\n",
    "\n",
    "# Drop duplicate pairs: ev_gen_uniques\n",
    "ev_gen_uniques = ev_gen.drop_duplicates()\n",
    "\n",
    "# Print ev_gen_uniques\n",
    "print(ev_gen_uniques)"
   ]
  },
  {
   "cell_type": "markdown",
   "metadata": {},
   "source": [
    "<center><b>Counting How Many Unique Sports a Country Has Medalled In</b></center>"
   ]
  },
  {
   "cell_type": "code",
   "execution_count": 43,
   "metadata": {
    "collapsed": false
   },
   "outputs": [
    {
     "name": "stdout",
     "output_type": "stream",
     "text": [
      "Number of Unique Sports in Which This Country Has Won Medals\n",
      "NOC\n",
      "USA    34\n",
      "GBR    31\n",
      "FRA    28\n",
      "GER    26\n",
      "CHN    24\n",
      "AUS    22\n",
      "ESP    22\n",
      "CAN    22\n",
      "SWE    21\n",
      "URS    21\n",
      "ITA    21\n",
      "NED    20\n",
      "RUS    20\n",
      "JPN    20\n",
      "DEN    19\n",
      "Name: Sport, dtype: int64\n",
      " \n",
      " \n",
      "Most Countries Have Won Medals in Few or No Sports\n"
     ]
    },
    {
     "data": {
      "image/png": "[encoded data removed]",
      "text/plain": [
       "<matplotlib.figure.Figure at 0x8839270>"
      ]
     },
     "metadata": {},
     "output_type": "display_data"
    }
   ],
   "source": [
    "#Group the Olympic medal data by country sum up medals by Sport rank most to least:\n",
    "# Group medals by 'NOC': country_grouped\n",
    "country_grouped = medals.groupby('NOC')\n",
    "\n",
    "# Compute the number of distinct sports in which each country won medals: Nsports\n",
    "Nsports = country_grouped['Sport'].nunique()\n",
    "\n",
    "# Sort the values of Nsports in descending order\n",
    "Nsports = Nsports.sort_values(ascending=False)\n",
    "\n",
    "# Print the top 15 rows of Nsports\n",
    "print('Number of Unique Sports in Which This Country Has Won Medals')\n",
    "print(Nsports.head(15))\n",
    "\n",
    "Nsports.plot(kind='hist', title='Count of Countries That Have Won Medals in Distinct Sports');\n",
    "plt.xlabel('Number of Sports Medaled In');\n",
    "plt.ylabel('Number of Countries');\n",
    "\n",
    "print(\" \")\n",
    "print(\" \")\n",
    "print('Most Countries Have Won Medals in Few or No Sports')"
   ]
  },
  {
   "cell_type": "markdown",
   "metadata": {},
   "source": [
    "<center><b>Who Won the Great Olympic Rivalry Between the USA and the USSR in the Cold War Era?</b></center>"
   ]
  },
  {
   "cell_type": "code",
   "execution_count": 44,
   "metadata": {
    "collapsed": false
   },
   "outputs": [
    {
     "name": "stdout",
     "output_type": "stream",
     "text": [
      "Number of Unique Sports Medalled in by USA and USSR during the Cold War Era:\n",
      "NOC\n",
      "URS    21\n",
      "USA    20\n",
      "Name: Sport, dtype: int64\n",
      "USA or USSR: Who won the most medals in each editon of the Summer Olympics in the Cold War Era:\n",
      "Edition\n",
      "1952    USA\n",
      "1956    URS\n",
      "1960    URS\n",
      "1964    URS\n",
      "1968    URS\n",
      "1972    URS\n",
      "1976    URS\n",
      "1980    URS\n",
      "1984    USA\n",
      "1988    URS\n",
      "dtype: object\n",
      "Who \"Won\" More Editions of the Summer Olympics During the Cold War Era?:\n",
      "URS    8\n",
      "USA    2\n",
      "dtype: int64\n"
     ]
    }
   ],
   "source": [
    "#isolating the Cold War Era Olympic games and getting medal data on only the USA and USSR\n",
    "# Extract all rows for which the 'Edition' is between 1952 & 1988: during_cold_war\n",
    "during_cold_war = (medals['Edition'] >= 1952) & (medals['Edition'] <= 1988)\n",
    "\n",
    "# Extract rows for which 'NOC' is either 'USA' or 'URS': is_usa_urs\n",
    "is_usa_urs = medals.NOC.isin(['USA', 'URS'])\n",
    "\n",
    "# Use during_cold_war and is_usa_urs to create the DataFrame: cold_war_medals\n",
    "cold_war_medals = medals.loc[during_cold_war & is_usa_urs]\n",
    "\n",
    "# Group cold_war_medals by 'NOC'\n",
    "country_grouped = cold_war_medals.groupby('NOC')\n",
    "\n",
    "# Create Nsports\n",
    "Nsports = country_grouped['Sport'].nunique().sort_values(ascending=False)\n",
    "\n",
    "# Print Nsports\n",
    "print('Number of Unique Sports Medalled in by USA and USSR during the Cold War Era:')\n",
    "print(Nsports)\n",
    "\n",
    "#find out which country had the most athletes winning medals in the cold war era\n",
    "# Create the pivot table: medals_won_by_country\n",
    "medals_won_by_country = medals.pivot_table(index='Edition', columns='NOC', values='Athlete', aggfunc='count')\n",
    "\n",
    "# Slice medals_won_by_country: cold_war_usa_usr_medals\n",
    "cold_war_usa_usr_medals = medals_won_by_country.loc[1952:1988, ['USA','URS']]\n",
    "\n",
    "# Create most_medals \n",
    "most_medals = cold_war_usa_usr_medals.idxmax(axis='columns')\n",
    "\n",
    "print('USA or USSR: Who won the most medals in each editon of the Summer Olympics in the Cold War Era:')\n",
    "print(most_medals)\n",
    "\n",
    "# Print most_medals.value_counts()\n",
    "print('Who \"Won\" More Editions of the Summer Olympics During the Cold War Era?:')\n",
    "print(most_medals.value_counts())"
   ]
  },
  {
   "cell_type": "markdown",
   "metadata": {},
   "source": [
    "<center><b>The Good Old US of A</b></center>"
   ]
  },
  {
   "cell_type": "code",
   "execution_count": 49,
   "metadata": {
    "collapsed": false
   },
   "outputs": [
    {
     "data": {
      "image/png": "[encoded data removed]",
      "text/plain": [
       "<matplotlib.figure.Figure at 0x888a550>"
      ]
     },
     "metadata": {},
     "output_type": "display_data"
    }
   ],
   "source": [
    "# Create the DataFrame: usa\n",
    "usa = medals.loc[medals.NOC.isin(['USA'])]\n",
    "\n",
    "# Group usa by ['Edition', 'Medal'] and aggregate over 'Athlete'\n",
    "usa_medals_by_year = usa.groupby(['Edition', 'Medal'])['Athlete'].count()\n",
    "\n",
    "# Reshape usa_medals_by_year by unstacking\n",
    "usa_medals_by_year = usa_medals_by_year.unstack(level='Medal')\n",
    "\n",
    "# Plot the DataFrame usa_medals_by_year\n",
    "usa_medals_by_year.plot();\n",
    "plt.title('Number of Medals Won By Team USA');\n",
    "plt.xlabel('Olympic Edition');\n",
    "plt.ylabel('Number of Medals');\n"
   ]
  },
  {
   "cell_type": "markdown",
   "metadata": {},
   "source": [
    "<center><b>Gender Equality in the Summer Games</b></center>\n",
    "\n",
    "You may have noticed that women did not participate in the first Summer Games of 1896.  Since then, how has gender involvement in the Olympics changed? "
   ]
  },
  {
   "cell_type": "code",
   "execution_count": 46,
   "metadata": {
    "collapsed": false
   },
   "outputs": [
    {
     "name": "stdout",
     "output_type": "stream",
     "text": [
      "Transformed\n",
      "Gender      Men  Women\n",
      "Edition               \n",
      "1896      151.0    NaN\n",
      "1900      501.0   11.0\n",
      "1904      458.0   12.0\n",
      "1908      789.0   15.0\n",
      "1912      855.0   30.0\n",
      "1920     1255.0   43.0\n",
      "1924      833.0   51.0\n",
      "1928      615.0   95.0\n",
      "1932      555.0   60.0\n",
      "1936      791.0   84.0\n",
      "1948      718.0   96.0\n",
      "1952      750.0  139.0\n",
      "1956      739.0  146.0\n",
      "1960      737.0  145.0\n",
      "1964      820.0  190.0\n",
      "1968      819.0  212.0\n",
      "1972      947.0  238.0\n",
      "1976      924.0  381.0\n",
      "1980      958.0  429.0\n",
      "1984      973.0  486.0\n",
      "1988     1011.0  535.0\n",
      "1992     1105.0  600.0\n",
      "1996     1082.0  777.0\n",
      "2000     1125.0  890.0\n",
      "2004     1099.0  899.0\n",
      "2008     1110.0  932.0\n"
     ]
    }
   ],
   "source": [
    "\n",
    "\n",
    "transformed = medals.pivot_table(index = 'Edition',\n",
    "                                 values = 'Sport',\n",
    "                                 columns= 'Gender', \n",
    "                                 aggfunc='count')\n",
    "print('Transformed')\n",
    "print(transformed)"
   ]
  },
  {
   "cell_type": "code",
   "execution_count": 48,
   "metadata": {
    "collapsed": false
   },
   "outputs": [
    {
     "data": {
      "image/png": "[encoded data removed]",
      "text/plain": [
       "<matplotlib.figure.Figure at 0x86a7710>"
      ]
     },
     "metadata": {},
     "output_type": "display_data"
    }
   ],
   "source": [
    "transformed.plot(kind='line');\n",
    "plt.title('Number of Medals Awarded to Men vs Women');\n",
    "plt.ylabel('Number of Medals Awarded');"
   ]
  },
  {
   "cell_type": "code",
   "execution_count": null,
   "metadata": {
    "collapsed": true
   },
   "outputs": [],
   "source": []
  }
 ],
 "metadata": {
  "kernelspec": {
   "display_name": "Python 3",
   "language": "python",
   "name": "python3"
  },
  "language_info": {
   "codemirror_mode": {
    "name": "ipython",
    "version": 3
   },
   "file_extension": ".py",
   "mimetype": "text/x-python",
   "name": "python",
   "nbconvert_exporter": "python",
   "pygments_lexer": "ipython3",
   "version": "3.6.0"
  }
 },
 "nbformat": 4,
 "nbformat_minor": 2
}
